{
  "nbformat": 4,
  "nbformat_minor": 0,
  "metadata": {
    "colab": {
      "private_outputs": true,
      "provenance": [],
      "collapsed_sections": [
        "vncDsAP0Gaoa",
        "FJNUwmbgGyua",
        "w6K7xa23Elo4",
        "yQaldy8SH6Dl",
        "mDgbUHAGgjLW",
        "O_i_v8NEhb9l",
        "HhfV-JJviCcP",
        "Y3lxredqlCYt",
        "3RnN4peoiCZX",
        "x71ZqKXriCWQ",
        "7hBIi_osiCS2",
        "JlHwYmJAmNHm",
        "35m5QtbWiB9F",
        "PoPl-ycgm1ru",
        "H0kj-8xxnORC",
        "nA9Y7ga8ng1Z",
        "PBTbrJXOngz2",
        "u3PMJOP6ngxN",
        "dauF4eBmngu3",
        "bKJF3rekwFvQ",
        "MSa1f5Uengrz",
        "GF8Ens_Soomf",
        "0wOQAZs5pc--",
        "K5QZ13OEpz2H",
        "lQ7QKXXCp7Bj",
        "448CDAPjqfQr",
        "KSlN3yHqYklG",
        "t6dVpIINYklI",
        "ijmpgYnKYklI",
        "-JiQyfWJYklI",
        "EM7whBJCYoAo",
        "fge-S5ZAYoAp",
        "85gYPyotYoAp",
        "RoGjAbkUYoAp",
        "4Of9eVA-YrdM",
        "iky9q4vBYrdO",
        "F6T5p64dYrdO",
        "y-Ehk30pYrdP",
        "bamQiAODYuh1",
        "QHF8YVU7Yuh3",
        "GwzvFGzlYuh3",
        "qYpmQ266Yuh3",
        "OH-pJp9IphqM",
        "bbFf2-_FphqN",
        "_ouA3fa0phqN",
        "Seke61FWphqN",
        "PIIx-8_IphqN",
        "t27r6nlMphqO",
        "r2jJGEOYphqO",
        "b0JNsNcRphqO",
        "BZR9WyysphqO",
        "jj7wYXLtphqO",
        "eZrbJ2SmphqO",
        "rFu4xreNphqO",
        "YJ55k-q6phqO",
        "gCFgpxoyphqP",
        "OVtJsKN_phqQ",
        "lssrdh5qphqQ",
        "U2RJ9gkRphqQ",
        "1M8mcRywphqQ",
        "tgIPom80phqQ",
        "JMzcOPDDphqR",
        "x-EpHcCOp1ci",
        "X_VqEhTip1ck",
        "8zGJKyg5p1ck",
        "PVzmfK_Ep1ck",
        "n3dbpmDWp1ck",
        "ylSl6qgtp1ck",
        "ZWILFDl5p1ck",
        "M7G43BXep1ck",
        "Ag9LCva-p1cl",
        "E6MkPsBcp1cl",
        "2cELzS2fp1cl",
        "3MPXvC8up1cl",
        "NC_X3p0fY2L0",
        "UV0SzAkaZNRQ",
        "YPEH6qLeZNRQ",
        "q29F0dvdveiT",
        "EXh0U9oCveiU",
        "22aHeOlLveiV",
        "g-ATYxFrGrvw",
        "Yfr_Vlr8HBkt",
        "8yEUt7NnHlrM",
        "tEA2Xm5dHt1r",
        "I79__PHVH19G",
        "Ou-I18pAyIpj",
        "fF3858GYyt-u",
        "4_0_7-oCpUZd",
        "hwyV_J3ipUZe",
        "3yB-zSqbpUZe",
        "dEUvejAfpUZe",
        "Fd15vwWVpUZf",
        "bn_IUdTipZyH",
        "49K5P_iCpZyH",
        "Nff-vKELpZyI",
        "kLW572S8pZyI",
        "dWbDXHzopZyI",
        "yLjJCtPM0KBk",
        "xiyOF9F70UgQ",
        "7wuGOrhz0itI",
        "id1riN9m0vUs",
        "578E2V7j08f6",
        "89xtkJwZ18nB",
        "67NQN5KX2AMe",
        "Iwf50b-R2tYG",
        "GMQiZwjn3iu7",
        "WVIkgGqN3qsr",
        "XkPnILGE3zoT",
        "Hlsf0x5436Go",
        "mT9DMSJo4nBL",
        "c49ITxTc407N",
        "OeJFEK0N496M",
        "9ExmJH0g5HBk",
        "cJNqERVU536h",
        "k5UmGsbsOxih",
        "T0VqWOYE6DLQ",
        "qBMux9mC6MCf",
        "-oLEiFgy-5Pf",
        "C74aWNz2AliB",
        "2DejudWSA-a0",
        "pEMng2IbBLp7",
        "rAdphbQ9Bhjc",
        "TNVZ9zx19K6k",
        "nqoHp30x9hH9",
        "rMDnDkt2B6du",
        "yiiVWRdJDDil",
        "1UUpS68QDMuG",
        "kexQrXU-DjzY",
        "T5CmagL3EC8N",
        "BhH2vgX9EjGr",
        "qjKvONjwE8ra",
        "P1XJ9OREExlT",
        "VFOzZv6IFROw",
        "TIqpNgepFxVj",
        "VfCC591jGiD4",
        "OB4l2ZhMeS1U",
        "ArJBuiUVfxKd",
        "4qY1EAkEfxKe",
        "PiV4Ypx8fxKe",
        "TfvqoZmBfxKf",
        "dJ2tPlVmpsJ0",
        "JWYfwnehpsJ1",
        "-jK_YjpMpsJ2",
        "HAih1iBOpsJ2",
        "zVGeBEFhpsJ2",
        "bmKjuQ-FpsJ3",
        "Fze-IPXLpx6K",
        "7AN1z2sKpx6M",
        "9PIHJqyupx6M",
        "_-qAgymDpx6N",
        "Z-hykwinpx6N",
        "h_CCil-SKHpo",
        "cBFFvTBNJzUa",
        "HvGl1hHyA_VK",
        "EyNgTHvd2WFk",
        "KH5McJBi2d8v",
        "iW_Lq9qf2h6X",
        "-Kee-DAl2viO",
        "gCX9965dhzqZ",
        "gIfDvo9L0UH2"
      ],
      "include_colab_link": true
    },
    "kernelspec": {
      "name": "python3",
      "display_name": "Python 3"
    },
    "language_info": {
      "name": "python"
    }
  },
  "cells": [
    {
      "cell_type": "markdown",
      "metadata": {
        "id": "view-in-github",
        "colab_type": "text"
      },
      "source": [
        "<a href=\"https://colab.research.google.com/github/Akriti-kumari16/Airbnb_NYC_2019.csv/blob/main/airbnb_2019_csv_Akriti.ipynb\" target=\"_parent\"><img src=\"https://colab.research.google.com/assets/colab-badge.svg\" alt=\"Open In Colab\"/></a>"
      ]
    },
    {
      "cell_type": "markdown",
      "source": [
        " **Project Name**    :- Airbnb Booking Exploratory Data Analysis\n",
        "\n",
        "\n"
      ],
      "metadata": {
        "id": "vncDsAP0Gaoa"
      }
    },
    {
      "cell_type": "markdown",
      "source": [
        "##### **Project Type**    - EDA\n",
        "##### **Contribution**   - individual - Akriti kumari"
      ],
      "metadata": {
        "id": "beRrZCGUAJYm"
      }
    },
    {
      "cell_type": "markdown",
      "source": [
        " Description"
      ],
      "metadata": {
        "id": "Wg-1V7Cuqb9o"
      }
    },
    {
      "cell_type": "markdown",
      "source": [
        "# **Project Summary -**"
      ],
      "metadata": {
        "id": "FJNUwmbgGyua"
      }
    },
    {
      "cell_type": "markdown",
      "source": [
        " Airbnb as in \"Air Bed and Breakfast\" is a service that allows property owners to rent out their spaces/condos to travelers lloking for a place to stay.  Since 2008, guests and hosts have used Airbnb to expand on travelling possibilities and present a more unique personalized way of experiencing the world.Data analysis on millions of listing provided through Airbnb is a crucial factor for the company.The millions of listings generate a lot of data - data that can be analyzed and used for security, business decisions,understanding of customers and providers (hosts) behavior and performance on the platform, guiding marketing initiatives, implementation of innovative additional services and much more.\n",
        "This dataset has around 49000 observations in it with 16 columns and it is a mix between categorical and numeric values."
      ],
      "metadata": {
        "id": "ERTk1uumrIOn"
      }
    },
    {
      "cell_type": "markdown",
      "source": [],
      "metadata": {
        "id": "7Dw7cDIJqVfB"
      }
    },
    {
      "cell_type": "markdown",
      "source": [
        "# **GitHub Link -**"
      ],
      "metadata": {
        "id": "w6K7xa23Elo4"
      }
    },
    {
      "cell_type": "code",
      "source": [],
      "metadata": {
        "id": "BIxnp9XnTG2e"
      },
      "execution_count": null,
      "outputs": []
    },
    {
      "cell_type": "markdown",
      "source": [
        "Provide your GitHub Link here."
      ],
      "metadata": {
        "id": "h1o69JH3Eqqn"
      }
    },
    {
      "cell_type": "markdown",
      "source": [
        "# **Problem Statement**\n",
        "\n",
        "**text** **Lets** **Explore** **and** **analyze** **the** **data** **set** **and** **find** **some** **insights**(**Few** **Questions** **Listed** Below)\n",
        "\n",
        " 1.what can we learn about different hosts and areas?\n",
        "\n",
        "2.What we learn from room type and their prices according to area?\n",
        "\n",
        "3.what can we learn from data? (ex: locations,prices,reviews,etc)\n",
        "\n",
        "4.which hosts are the busiest and why is the reason?\n",
        "\n",
        "5.which hosts are charging higher price?\n",
        "\n",
        "6.is there any traffic difference among different areas and what could be the reason for it?\n",
        "\n",
        "7 what is the correlation between different variables?\n",
        "\n",
        "8 check outliers in price column?\n",
        "\n",
        "9.which is the room_type is the most common type?\n",
        "\n",
        "10 corelation between( price and number_of_review) and (price and last_review)?"
      ],
      "metadata": {
        "id": "yQaldy8SH6Dl"
      }
    },
    {
      "cell_type": "markdown",
      "source": [
        "# Genral Guidelines :-\n",
        "\n",
        "## 1.   Well-structured, formatted, and commented code is required.\n",
        "2.   Exception Handling, Production Grade Code & Deployment Ready Code will be a plus. Those students will be awarded some additional credits.\n",
        "     \n",
        "     The additional credits will have advantages over other students during Star Student selection.\n",
        "       \n",
        "             [ Note: - Deployment Ready Code is defined as, the whole .ipynb notebook should be executable in one go\n",
        "                       without a single error logged. ]\n",
        "\n",
        "3.   Each and every logic should have proper comments.\n",
        "4. You may add as many number of charts you want. Make Sure for each and every chart the following format should be answered.\n",
        "        \n",
        "\n",
        "```\n",
        "# Chart visualization code\n",
        "```\n",
        "            \n",
        "\n",
        "*   Why did you pick the specific chart?\n",
        "*   What is/are the insight(s) found from the chart?\n",
        "* Will the gained insights help creating a positive business impact?\n",
        "Are there any insights that lead to negative growth? Justify with specific reason.\n",
        "\n",
        "5. You have to create at least 15 logical & meaningful charts having important insights.\n",
        "\n",
        "\n",
        "[ Hints : - Do the Vizualization in  a structured way while following \"UBM\" Rule.\n",
        "\n",
        "U - Univariate Analysis,\n",
        "\n",
        "B - Bivariate Analysis (Numerical - Categorical, Numerical - Numerical, Categorical - Categorical)\n",
        "\n",
        "M - Multivariate Analysis\n",
        " ]"
      ],
      "metadata": {
        "id": "lomOt2IEeUww"
      }
    },
    {
      "cell_type": "markdown",
      "source": [],
      "metadata": {
        "id": "b9_1hqplfNTS"
      }
    },
    {
      "cell_type": "markdown",
      "source": [
        "# Let's Begin !\n"
      ],
      "metadata": {
        "id": "3oumuJy-fU7p"
      }
    },
    {
      "cell_type": "markdown",
      "source": [
        "# **importing Libraries**"
      ],
      "metadata": {
        "id": "siydQSfg1oHF"
      }
    },
    {
      "cell_type": "code",
      "source": [
        "# import the basic libraries\n",
        "import pandas as pd\n",
        "import numpy as np\n",
        "import matplotlib.pyplot as plt\n",
        "import seaborn as sns\n",
        "%matplotlib inline"
      ],
      "metadata": {
        "id": "cVP9ssLF2FNx"
      },
      "execution_count": null,
      "outputs": []
    },
    {
      "cell_type": "markdown",
      "source": [
        "# **Mounting** **Drive**"
      ],
      "metadata": {
        "id": "-3roUOK_2isC"
      }
    },
    {
      "cell_type": "code",
      "source": [
        "from google.colab import drive\n",
        "drive.mount('/content/drive')"
      ],
      "metadata": {
        "id": "gAfp6Obs2h2q"
      },
      "execution_count": null,
      "outputs": []
    },
    {
      "cell_type": "markdown",
      "source": [
        "# **Reading** **Dataset**"
      ],
      "metadata": {
        "id": "kS13mkrr3Owo"
      }
    },
    {
      "cell_type": "code",
      "source": [
        "# load the data\n",
        "# we have csv(comma seperated values)file : read_csv\n",
        "# excel file: read_excel\n",
        "airbnb = pd.read_csv(\"/content/drive/MyDrive/Airbnb NYC 2019.csv\")\n",
        "airbnb\n"
      ],
      "metadata": {
        "id": "rLFkPyVh3JfM"
      },
      "execution_count": null,
      "outputs": []
    },
    {
      "cell_type": "code",
      "source": [
        "pd.set_option('display.max_columns',None)# used to display all the hidden column"
      ],
      "metadata": {
        "id": "oYk0AsE57Cp-"
      },
      "execution_count": null,
      "outputs": []
    },
    {
      "cell_type": "markdown",
      "source": [
        "# Basics checks\n",
        "\n",
        "# Shape:\n",
        " **it is used to find the number of rows and column**\n"
      ],
      "metadata": {
        "id": "-E_y7MG-Zjj9"
      }
    },
    {
      "cell_type": "code",
      "source": [
        "airbnb.shape #48895 rows and 12 column"
      ],
      "metadata": {
        "id": "qcRLj4iE8zX8"
      },
      "execution_count": null,
      "outputs": []
    },
    {
      "cell_type": "markdown",
      "source": [
        "#  To find all columns name:-"
      ],
      "metadata": {
        "id": "4xzd-wjHo-ir"
      }
    },
    {
      "cell_type": "code",
      "source": [
        "airbnb.columns"
      ],
      "metadata": {
        "id": "GBeFkAIcpIN8"
      },
      "execution_count": null,
      "outputs": []
    },
    {
      "cell_type": "markdown",
      "source": [],
      "metadata": {
        "id": "5Yh2gGLeu2MI"
      }
    },
    {
      "cell_type": "markdown",
      "source": [
        "id : unique listing id\n",
        "\n",
        "name: represents accomodation\n",
        "\n",
        "host_id: unique id for hosts\n",
        "\n",
        "host_name: registered name for hosts\n",
        "\n",
        "neighbourhood_group: group of area\n",
        "\n",
        "neighbourhood: area under neighbourhood group\n",
        "\n",
        "latitude: location of listing\n",
        "\n",
        "longitude: location of listing\n",
        "\n",
        "room_type: unique rooms\n",
        "\n",
        "price: price of listing\n",
        "\n",
        "minimum_nights: minimum nights stay required for single visit\n",
        "\n",
        "number_of_reviews: total rating count of listing\n",
        "\n",
        "last_review: last review given\n",
        "\n",
        "review_per_month: rating received per month\n",
        "\n",
        "calculated_host_listing_count: total number of listing registered under hosts\n",
        "\n",
        "availability_365: number of daya for which host is a available in a year\n"
      ],
      "metadata": {
        "id": "j_coQbd4p5WE"
      }
    },
    {
      "cell_type": "markdown",
      "source": [
        "# head\n",
        " **it used to print first five rows**\n",
        "\n"
      ],
      "metadata": {
        "id": "aYWMEhwL9HuH"
      }
    },
    {
      "cell_type": "code",
      "source": [
        "airbnb.head()"
      ],
      "metadata": {
        "id": "3fsYXdYc8_vo"
      },
      "execution_count": null,
      "outputs": []
    },
    {
      "cell_type": "markdown",
      "source": [
        "# tail\n",
        "\n",
        "**it is used to print last five rows**"
      ],
      "metadata": {
        "id": "J3Ln8fhF9gAE"
      }
    },
    {
      "cell_type": "code",
      "source": [
        "airbnb.tail()"
      ],
      "metadata": {
        "id": "5lgwEy9S9dSG"
      },
      "execution_count": null,
      "outputs": []
    },
    {
      "cell_type": "markdown",
      "source": [
        "# Describe\n",
        "\n",
        "**it is used to get the statistical report of numerical data**"
      ],
      "metadata": {
        "id": "z8vnV3sm38X8"
      }
    },
    {
      "cell_type": "code",
      "source": [
        "airbnb.describe() # stats report for numerical data\n",
        "# Are there any constnat columns\n",
        "# column is constant when std =0"
      ],
      "metadata": {
        "id": "jgmhOjKk4z3L"
      },
      "execution_count": null,
      "outputs": []
    },
    {
      "cell_type": "markdown",
      "source": [
        "# insights\n",
        "\n",
        "clearly data doesnt have constant column."
      ],
      "metadata": {
        "id": "KA3JCylpELYh"
      }
    },
    {
      "cell_type": "markdown",
      "source": [
        "# **info**\n",
        "  **it** **is** **used** **to** **find** **memory** **usage** **of** **data**\n"
      ],
      "metadata": {
        "id": "pesqTAnR-X_l"
      }
    },
    {
      "cell_type": "code",
      "source": [
        "airbnb.info()"
      ],
      "metadata": {
        "id": "akAWRcC25MmD"
      },
      "execution_count": null,
      "outputs": []
    },
    {
      "cell_type": "markdown",
      "source": [
        "# Data cleaning"
      ],
      "metadata": {
        "id": "GYmPx7umFNRl"
      }
    },
    {
      "cell_type": "code",
      "source": [
        "airbnb.isnull().sum() #checking missing values"
      ],
      "metadata": {
        "id": "8Z6TSOgZ5WbA"
      },
      "execution_count": null,
      "outputs": []
    },
    {
      "cell_type": "code",
      "source": [
        "airbnb['name'].mode()"
      ],
      "metadata": {
        "id": "sPuMwK0oNbkn"
      },
      "execution_count": null,
      "outputs": []
    },
    {
      "cell_type": "code",
      "source": [
        "airbnb['name'].fillna(value=\"Hillside Hotel\",inplace = True)\n"
      ],
      "metadata": {
        "id": "JP5g2iq-FdYi"
      },
      "execution_count": null,
      "outputs": []
    },
    {
      "cell_type": "code",
      "source": [
        "airbnb['host_name'].mode()"
      ],
      "metadata": {
        "id": "c9OfoaVEPBAl"
      },
      "execution_count": null,
      "outputs": []
    },
    {
      "cell_type": "code",
      "source": [
        "airbnb['host_name'].fillna(value=\"Michael\",inplace = True)\n",
        "\n"
      ],
      "metadata": {
        "id": "vqzG_EFkPJOl"
      },
      "execution_count": null,
      "outputs": []
    },
    {
      "cell_type": "code",
      "source": [
        "airbnb[\"neighbourhood_group\"].mode()"
      ],
      "metadata": {
        "id": "F8hrN8B3ODl7"
      },
      "execution_count": null,
      "outputs": []
    },
    {
      "cell_type": "code",
      "source": [
        "airbnb['neighbourhood_group'].fillna(value=\"Manhattan\", inplace=True)"
      ],
      "metadata": {
        "id": "9h2yzlmgG73p"
      },
      "execution_count": null,
      "outputs": []
    },
    {
      "cell_type": "code",
      "source": [
        "\n",
        "airbnb[\"last_review\"].mode()"
      ],
      "metadata": {
        "id": "EUV6BYpSObOA"
      },
      "execution_count": null,
      "outputs": []
    },
    {
      "cell_type": "code",
      "source": [
        "airbnb['last_review'].fillna(value = \"2019-06-23\",inplace = True)\n"
      ],
      "metadata": {
        "id": "atX7D9c7HO50"
      },
      "execution_count": null,
      "outputs": []
    },
    {
      "cell_type": "code",
      "source": [
        "airbnb['reviews_per_month'].fillna(airbnb['reviews_per_month'].mean(),inplace = True)\n"
      ],
      "metadata": {
        "id": "JEXH23PAIte5"
      },
      "execution_count": null,
      "outputs": []
    },
    {
      "cell_type": "code",
      "source": [
        "airbnb.isnull().sum()"
      ],
      "metadata": {
        "id": "MRpRb31dK8rr"
      },
      "execution_count": null,
      "outputs": []
    },
    {
      "cell_type": "markdown",
      "source": [
        "# **dtypes** :-\n",
        " **it** **is** **used** **to** **get** **data** **type** **of** **each** **column**"
      ],
      "metadata": {
        "id": "-ZeB_F2s_Sub"
      }
    },
    {
      "cell_type": "code",
      "source": [
        "airbnb.dtypes"
      ],
      "metadata": {
        "id": "85aiYQlg_12P"
      },
      "execution_count": null,
      "outputs": []
    },
    {
      "cell_type": "code",
      "source": [
        "airbnb.columns # to find all columns name"
      ],
      "metadata": {
        "id": "OygAl3MK5nZi"
      },
      "execution_count": null,
      "outputs": []
    },
    {
      "cell_type": "markdown",
      "source": [
        "# How to drop columns?"
      ],
      "metadata": {
        "id": "Jl8VTTjrgDC9"
      }
    },
    {
      "cell_type": "code",
      "source": [
        "# drop latitude, longitude, last_review, reviews_per_month\n",
        "airbnb.drop(['latitude','longitude','last_review','reviews_per_month'],axis = 1,inplace = True)\n"
      ],
      "metadata": {
        "id": "ZTFH8IBu54LT"
      },
      "execution_count": null,
      "outputs": []
    },
    {
      "cell_type": "code",
      "source": [
        "airbnb.head(10) # to get first 10 rows"
      ],
      "metadata": {
        "id": "qwseBCdS6zCc"
      },
      "execution_count": null,
      "outputs": []
    },
    {
      "cell_type": "markdown",
      "source": [
        "# print only categorical(text) column"
      ],
      "metadata": {
        "id": "tTYvJ6tgGHsP"
      }
    },
    {
      "cell_type": "code",
      "source": [
        "# prints the columns which has text kind of data\n",
        "cat_data = airbnb.select_dtypes(include = ['object'])\n",
        "cat_data.columns"
      ],
      "metadata": {
        "id": "3u25zKIPGBAc"
      },
      "execution_count": null,
      "outputs": []
    },
    {
      "cell_type": "code",
      "source": [
        "# print all the numerical columns\n",
        "num_data = airbnb.select_dtypes(include=['int64','float64'])\n",
        "num_data.columns"
      ],
      "metadata": {
        "id": "J8lwS7SVc_6p"
      },
      "execution_count": null,
      "outputs": []
    },
    {
      "cell_type": "markdown",
      "source": [
        "# Check outliers in price column"
      ],
      "metadata": {
        "id": "gI-q4MfpdLb7"
      }
    },
    {
      "cell_type": "code",
      "source": [
        "# check outliers in price column\n",
        "plt.figure(figsize=(10,3))\n",
        "sns.boxplot(data=airbnb,x='price')\n",
        "plt.show()"
      ],
      "metadata": {
        "id": "7d5fhevTQgtd"
      },
      "execution_count": null,
      "outputs": []
    },
    {
      "cell_type": "code",
      "source": [
        "# There are outliers in price column\n",
        " # 5th percentile: min limit\n",
        "airbnb['price'].quantile(0.05)"
      ],
      "metadata": {
        "id": "MapARf-jQ-aY"
      },
      "execution_count": null,
      "outputs": []
    },
    {
      "cell_type": "code",
      "source": [
        "airbnb['price'].quantile(0.95) # 95th percentile : max limit\n"
      ],
      "metadata": {
        "id": "Nm08qCF7RIr1"
      },
      "execution_count": null,
      "outputs": []
    },
    {
      "cell_type": "code",
      "source": [
        "# We call outlier if value is less than 5th percentile and\n",
        "# greater than 95th percentile\n",
        "# outlier : price != [40.0 ,355]"
      ],
      "metadata": {
        "id": "Rkn4Z3EBRV2Z"
      },
      "execution_count": null,
      "outputs": []
    },
    {
      "cell_type": "code",
      "source": [
        "airbnb.loc[( airbnb['price']<=airbnb['price'].quantile(0.05))|(airbnb['price']>=airbnb['price'].quantile(0.95))]\n"
      ],
      "metadata": {
        "id": "M3Ov1nY1Rq8j"
      },
      "execution_count": null,
      "outputs": []
    },
    {
      "cell_type": "code",
      "source": [
        "# find distribution of price\n",
        "plt.figure(figsize=(3,3))\n",
        "sns.kdeplot(data=airbnb,x='price',fill = True,color = 'pink')\n",
        "plt.show()"
      ],
      "metadata": {
        "id": "U4DFD1jaR6MK"
      },
      "execution_count": null,
      "outputs": []
    },
    {
      "cell_type": "markdown",
      "source": [
        "# which room_type is the most common type ?"
      ],
      "metadata": {
        "id": "WDUE14pAUkl_"
      }
    },
    {
      "cell_type": "code",
      "source": [
        "plt.figure(figsize=(10,3))\n",
        "sns.countplot(data=airbnb,x='room_type')\n",
        "plt.xticks(rotation=90)\n",
        "plt.show()"
      ],
      "metadata": {
        "id": "ky28KK4uUF5v"
      },
      "execution_count": null,
      "outputs": []
    },
    {
      "cell_type": "markdown",
      "source": [
        "# insights\n",
        "\n",
        "Entire home/apt is the most common room_type followed by private room."
      ],
      "metadata": {
        "id": "bu-NjHbWSZwP"
      }
    },
    {
      "cell_type": "markdown",
      "source": [
        "# Which room_type charges more price?"
      ],
      "metadata": {
        "id": "dywFwZuJXugI"
      }
    },
    {
      "cell_type": "code",
      "source": [
        "plt.figure(figsize=(3,3))\n",
        "sns.boxplot(data=airbnb,x='room_type',y='price')\n",
        "plt.xticks(rotation = 90)\n",
        "plt.show()"
      ],
      "metadata": {
        "id": "mHTlPgYcW9QF"
      },
      "execution_count": null,
      "outputs": []
    },
    {
      "cell_type": "markdown",
      "source": [
        "# insight\n",
        "Entire home/apt is more expensive."
      ],
      "metadata": {
        "id": "lorizsXiXVTE"
      }
    },
    {
      "cell_type": "markdown",
      "source": [
        "# 1. what can we learn about different hosts and areas?"
      ],
      "metadata": {
        "id": "iUgasoYsLy1u"
      }
    },
    {
      "cell_type": "code",
      "source": [
        "host_areas = airbnb.groupby(['host_name','neighbourhood_group'])['calculated_host_listings_count'].max().reset_index()\n",
        "host_areas.sort_values(by='calculated_host_listings_count',ascending = False).head(5)"
      ],
      "metadata": {
        "id": "zCTy8VwgLxjJ"
      },
      "execution_count": null,
      "outputs": []
    },
    {
      "cell_type": "markdown",
      "source": [
        "**we find that Host name sonder(NYC) has listed highest number of listing in manhattan followed by Blueground.**"
      ],
      "metadata": {
        "id": "seH-JXRqN_-B"
      }
    },
    {
      "cell_type": "markdown",
      "source": [
        "# 2. what we learn from room type and their prices according to area?"
      ],
      "metadata": {
        "id": "yVhYp50yOsXn"
      }
    },
    {
      "cell_type": "code",
      "source": [
        "room_price_area_wise = airbnb.groupby(['neighbourhood_group','room_type'])['price'].max().reset_index()\n",
        "room_price_area_wise.sort_values(by= 'price',ascending = False).head(10)\n"
      ],
      "metadata": {
        "id": "7zoOq5p4O-gp"
      },
      "execution_count": null,
      "outputs": []
    },
    {
      "cell_type": "code",
      "source": [
        "plt.figure(figsize = (10,5))\n",
        "sns.barplot(data = room_price_area_wise, x = \"neighbourhood_group\",y = \"price\",color = 'purple')\n",
        "plt.title('price_according_to_area')\n",
        "plt.show()"
      ],
      "metadata": {
        "id": "CtrILo5a3pu6"
      },
      "execution_count": null,
      "outputs": []
    },
    {
      "cell_type": "markdown",
      "source": [
        "# insights\n",
        "**manhattan charges more price**"
      ],
      "metadata": {
        "id": "KiYhhyQd0aJK"
      }
    },
    {
      "cell_type": "markdown",
      "source": [
        "#**what can we learn from data ?**"
      ],
      "metadata": {
        "id": "GfY2rSpavjBQ"
      }
    },
    {
      "cell_type": "code",
      "source": [
        "area_reviews = airbnb.groupby([\"neighbourhood_group\",'room_type'])['number_of_reviews'].max().reset_index()\n",
        "area_reviews"
      ],
      "metadata": {
        "id": "B-2sXp43u2RW"
      },
      "execution_count": null,
      "outputs": []
    },
    {
      "cell_type": "code",
      "source": [
        "plt.figure(figsize=(10,5))\n",
        "sns.barplot(data = area_reviews,x= 'neighbourhood_group', y = 'number_of_reviews',color = 'cyan')\n",
        "plt.title('Number of reviews in terms of area')\n",
        "plt.show()"
      ],
      "metadata": {
        "id": "_3K83gv1wqUh"
      },
      "execution_count": null,
      "outputs": []
    },
    {
      "cell_type": "markdown",
      "source": [
        "# insights"
      ],
      "metadata": {
        "id": "1AhYRybjVdPo"
      }
    },
    {
      "cell_type": "markdown",
      "source": [
        "**from this graph i get to know queens area has highest number of review**"
      ],
      "metadata": {
        "id": "YNmX-V5izdk-"
      }
    },
    {
      "cell_type": "code",
      "source": [
        "area = area_reviews['room_type']\n",
        "review = area_reviews['number_of_reviews']\n",
        "plt.bar(area, review,color = 'blue')\n",
        "plt.title('Number of room types in terms of area')\n",
        "plt.xlabel('Area')\n",
        "plt.ylabel('room_types')\n",
        "plt.show()"
      ],
      "metadata": {
        "id": "bdCNuxaMykYf"
      },
      "execution_count": null,
      "outputs": []
    },
    {
      "cell_type": "markdown",
      "source": [
        " from this graph i get to know private room area has highest review."
      ],
      "metadata": {
        "id": "hTwQe_rMy5yi"
      }
    },
    {
      "cell_type": "code",
      "source": [
        "price_area = airbnb.groupby(['price'])['number_of_reviews'].max().reset_index()\n",
        "price_area.head(10)"
      ],
      "metadata": {
        "id": "r6516TI5ztaG"
      },
      "execution_count": null,
      "outputs": []
    },
    {
      "cell_type": "code",
      "source": [
        "plt.figure(figsize = (10,5))\n",
        "sns.scatterplot(data = price_area, x = 'price',y = \"number_of_reviews\",color = 'green')\n",
        "plt.title(\"Number of reviews VS price\")\n",
        "plt.show()"
      ],
      "metadata": {
        "id": "AB4dfTNI0kHG"
      },
      "execution_count": null,
      "outputs": []
    },
    {
      "cell_type": "markdown",
      "source": [
        "**From above visualization we can say that most number of people like to stay in less price and their reviews are higher in those areas.**"
      ],
      "metadata": {
        "id": "EI1vL5lc5YP9"
      }
    },
    {
      "cell_type": "markdown",
      "source": [
        "# **4. Which hosts are the busiest and why?**"
      ],
      "metadata": {
        "id": "F0J_buph7Cpn"
      }
    },
    {
      "cell_type": "code",
      "source": [
        "busy_hosts = airbnb.groupby(['host_id','host_name','room_type'])['number_of_reviews'].max().reset_index()\n",
        "busy_hosts = busy_hosts.sort_values(by='number_of_reviews',ascending= False).head(10)\n",
        "busy_hosts"
      ],
      "metadata": {
        "id": "vj0SwHKY6D2Q"
      },
      "execution_count": null,
      "outputs": []
    },
    {
      "cell_type": "code",
      "source": [
        "name_hosts = busy_hosts['host_name']\n",
        "review_got = busy_hosts['number_of_reviews']\n",
        "plt.figure(figsize=(10,5))\n",
        "plt.bar(name_hosts,review_got,color = 'cyan')\n",
        "plt.xlabel('host name')\n",
        "plt.ylabel('number of reviews')\n",
        "plt.title('busyiest host in term of reviws')\n",
        "plt.show()"
      ],
      "metadata": {
        "id": "EczIPmCi8gls"
      },
      "execution_count": null,
      "outputs": []
    },
    {
      "cell_type": "markdown",
      "source": [
        "we found busiest host:\n",
        "\n",
        "1.Dona\n",
        "\n",
        "2.ji\n",
        "\n",
        "3.Maya\n",
        "\n",
        "4.Carol\n",
        "\n",
        "5.Danielle\n",
        "\n",
        "Because these hosts listed their room type as Entire home private room which is preferred by most number of people and also their reviews are higher."
      ],
      "metadata": {
        "id": "KBfbS9IH7dfF"
      }
    },
    {
      "cell_type": "markdown",
      "source": [
        "# **5.which host is charges higher price?**"
      ],
      "metadata": {
        "id": "iO2fCkZPAWJ0"
      }
    },
    {
      "cell_type": "code",
      "source": [
        "highest_price = airbnb.groupby(['host_id','host_name','room_type','neighbourhood_group'])['price'].sum().reset_index()\n",
        "highest_price = highest_price.sort_values(by= 'price',ascending = False).head(10)\n",
        "highest_price"
      ],
      "metadata": {
        "id": "szEXjVakAfNU"
      },
      "execution_count": null,
      "outputs": []
    },
    {
      "cell_type": "code",
      "source": [
        "name_of_hosts = highest_price['host_name']\n",
        "price_charges = highest_price['price']\n",
        "plt.figure(figsize=(10,5))\n",
        "plt.bar(name_of_hosts,price_charges,color = 'purple')\n",
        "plt.xlabel('Name of the host')\n",
        "plt.ylabel('price')\n",
        "plt.title('Hosts with maximum price charges')\n",
        "plt.show()"
      ],
      "metadata": {
        "id": "J_8xrgFBBlRv"
      },
      "execution_count": null,
      "outputs": []
    },
    {
      "cell_type": "markdown",
      "source": [
        "**Now we have seen that 10 Hosts who are charging maximum price**\n",
        "\n",
        "\n",
        "jelena,kathrine,Erin,Matt, Olson, Amy, Rum, jessica, Sally, Jack.\n",
        "\n",
        "**Max** **price** **is** **10000** **USD**.\n",
        "\n"
      ],
      "metadata": {
        "id": "XWxoc4cZC9bK"
      }
    },
    {
      "cell_type": "code",
      "source": [
        "airbnb"
      ],
      "metadata": {
        "id": "lXTi5QUxdyOK"
      },
      "execution_count": null,
      "outputs": []
    },
    {
      "cell_type": "markdown",
      "source": [
        "**is there corerelation price and minimum_nights?**"
      ],
      "metadata": {
        "id": "y52LbMnSfMXK"
      }
    },
    {
      "cell_type": "code",
      "source": [
        "fig,axes = plt.subplots(1,2,figsize = (10,4))\n",
        "sns.scatterplot(data = airbnb,x = 'price', y = 'number_of_reviews', ax = axes[0])\n",
        "axes[0].set_xlabel('price')\n",
        "axes[0].set_ylabel('number_of_reviews')\n",
        "sns.scatterplot(data = airbnb ,x = 'price', y = 'reviews_per_month',ax = axes[1])\n",
        "axes[1].set_xlabel('price')\n",
        "axes[1].set_ylabel('reviews_per_month')\n",
        "plt.tight_layout()\n",
        "\n"
      ],
      "metadata": {
        "id": "L1YWFO2ofLs3"
      },
      "execution_count": null,
      "outputs": []
    },
    {
      "cell_type": "markdown",
      "source": [
        "**based on the analysis we found that less price room has maximun number of reviews and also less price room has highest reviews per month.**"
      ],
      "metadata": {
        "id": "EWeUebXaigY-"
      }
    },
    {
      "cell_type": "code",
      "source": [
        "fig,axes=plt.subplots(2,2,figsize=(10,10))\n",
        "sns.scatterplot(data=airbnb,x='price',y='number_of_reviews',ax=axes[0,0])\n",
        "axes[0,0].set_xlabel('price')\n",
        "axes[0,0].set_ylabel('number_of_reviews')\n",
        "axes[0,0].set_title('price v/s number_of_reviews')\n",
        "\n",
        "sns.scatterplot(data=airbnb,x='price',y='reviews_per_month',ax=axes[0,1])\n",
        "axes[0,1].set_xlabel('price')\n",
        "axes[0,1].set_ylabel('reviews_per_month')\n",
        "\n",
        "sns.boxplot(data=airbnb,x='price',y='room_type',ax=axes[1,0])\n",
        "axes[1,0].set_xlabel('price')\n",
        "axes[1,0].set_ylabel('room_type')\n",
        "\n",
        "\n",
        "sns.boxplot(data=airbnb,x='price',y='neighbourhood_group',ax=axes[1,1])\n",
        "axes[1,1].set_xlabel('price')\n",
        "axes[1,1].set_ylabel('neighbourhood_group')\n",
        "\n",
        "plt.tight_layout()"
      ],
      "metadata": {
        "id": "Bo_Iwil3jb4q"
      },
      "execution_count": null,
      "outputs": []
    },
    {
      "cell_type": "markdown",
      "source": [
        "based on analysis we found that those room has lowest price has maximum  number_of_review and review_per_month. and Entire home/apt has highest outliers it means Entire home/apt room price is maximu. Manhattan area price of room is highest."
      ],
      "metadata": {
        "id": "QdJiw5V9zd7V"
      }
    },
    {
      "cell_type": "markdown",
      "source": [
        "# conculusion"
      ],
      "metadata": {
        "id": "7GNPkufsfAWF"
      }
    },
    {
      "cell_type": "markdown",
      "source": [
        "**1. we found that Entire home/apt is the most common room_type followed by private room.\n",
        "\n",
        "**2. we found that Entire home/apt is more expensive.\n",
        "\n",
        "**3. we find that Host name sonder(NYC) has listed highest number of listing in manhattan followed by Blueground.\n",
        "\n",
        "4.we found that manhattan charges more price.\n",
        "\n",
        "5.we found that from this graph i get to know queens area has highest number of review.\n",
        "\n",
        "6.from this graph i get to know private room area has highest review.\n",
        "\n",
        "7.From above visualization we can say that most number of people like to stay in less price and their reviews are higher in those areas.\n",
        "\n",
        "8.we found busiest host:Dona,ji,Maya,Carol,Danielle.\n",
        "\n",
        "9.we have seen that 10 Hosts who are charging maximum price\n",
        "\n",
        "jelena,kathrine,Erin,Matt, Olson, Amy, Rum, jessica, Sally, Jack.\n",
        "\n",
        "Max price is 10000 USD.\n",
        "\n",
        "Because these hosts listed their room type as Entire home private room which is preferred by most number of people and also their reviews are higher.\n",
        "\n",
        "10.based on the analysis we found that less price room has maximun number of reviews and also less price room has highest reviews per month.\n",
        "\n",
        "11.based on analysis we found that those room has lowest price has maximum number_of_review and review_per_month. and Entire home/apt has highest outliers it means Entire home/apt room price is maximu. Manhattan area price of room is highest.\n",
        "\n"
      ],
      "metadata": {
        "id": "n471KSLLBRi9"
      }
    }
  ]
}